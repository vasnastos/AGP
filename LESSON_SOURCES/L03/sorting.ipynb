{
 "metadata": {
  "language_info": {
   "codemirror_mode": {
    "name": "ipython",
    "version": 3
   },
   "file_extension": ".py",
   "mimetype": "text/x-python",
   "name": "python",
   "nbconvert_exporter": "python",
   "pygments_lexer": "ipython3",
   "version": "3.8.5-final"
  },
  "orig_nbformat": 2,
  "kernelspec": {
   "name": "python3",
   "display_name": "Python 3.8.5 64-bit",
   "metadata": {
    "interpreter": {
     "hash": "31f2aee4e71d21fbe5cf8b01ff0e069b9275f58929596ceb00d14d90e3e16cd6"
    }
   }
  }
 },
 "nbformat": 4,
 "nbformat_minor": 2,
 "cells": [
  {
   "source": [
    "<html>\n",
    "<body>\n",
    "<h2>Sorting List using lambdas</h2><img src=\"./RESOURCES/git.png\" width=\"20px\" height=\"20px\">(https://vasnastos.github.io/AGP/)\n",
    "<hr>\n",
    "<b>List Contains</b>\n",
    "<ul>\n",
    "<b style=\"color:black; font-size:19px;\">*</b>Integers<br>\n",
    "<b style=\"color:black; font-size:19px;\">*</b>Strings<br>\n",
    "<b style=\"color:black; font-size:19px;\">*</b>Objects<br>\n",
    "</body>\n",
    "</html>"
   ],
   "cell_type": "markdown",
   "metadata": {}
  },
  {
   "cell_type": "code",
   "execution_count": 32,
   "metadata": {},
   "outputs": [
    {
     "output_type": "stream",
     "name": "stdout",
     "text": [
      "[35, 98, 48, 44, 49, 70, 14, 77, 62, 83]\n[14, 35, 44, 48, 49, 62, 70, 77, 83, 98]\n"
     ]
    }
   ],
   "source": [
    "import random as r\n",
    "list=[]\n",
    "for i in range(10):\n",
    "    list.append(r.randint(0,100))\n",
    "print(list)\n",
    "list.sort()\n",
    "print(list)"
   ]
  },
  {
   "source": [
    "<b>Sorting objects</b><hr>"
   ],
   "cell_type": "markdown",
   "metadata": {}
  },
  {
   "cell_type": "code",
   "execution_count": 9,
   "metadata": {},
   "outputs": [
    {
     "output_type": "stream",
     "name": "stdout",
     "text": [
      "player_5-1071\nplayer_6-6283\nplayer_7-6532\nplayer_8-7047\nplayer_2-7788\nplayer_9-9793\nplayer_4-12586\nplayer_10-18250\nplayer_1-18408\nplayer_3-19193\n====================================================\nBackwards\nplayer_3-19193\nplayer_1-18408\nplayer_10-18250\nplayer_4-12586\nplayer_9-9793\nplayer_2-7788\nplayer_8-7047\nplayer_7-6532\nplayer_6-6283\nplayer_5-1071\n"
     ]
    }
   ],
   "source": [
    "import random as r\n",
    "import functools\n",
    "from time import time\n",
    "r.seed(time()*1000)\n",
    "class player:\n",
    "    def __init__(self,name,time):\n",
    "        self.name=name\n",
    "        self.time=time\n",
    "    def __lt__(self,oth):\n",
    "        return self.time<oth.time\n",
    "    def __str__(self):\n",
    "        return f'{self.name}-{self.time}'\n",
    "\n",
    "def main():\n",
    "    list=[]\n",
    "    for i in range(10):\n",
    "        list.append(player(f'player_{i+1}',r.randint(100,20000)))\n",
    "    list.sort()\n",
    "    print(functools.reduce(lambda x,y: str(x)+'\\n'+str(y),list))\n",
    "    list.sort(reverse=True)\n",
    "    print('====================================================')\n",
    "    print('Backwards')\n",
    "    print(functools.reduce(lambda x,y:str(x)+'\\n'+str(y),list))\n",
    "main()"
   ]
  },
  {
   "source": [
    "\n",
    "<br>\n",
    "<h3>Print from biggest value to smallest</h3>\n",
    "<hr>"
   ],
   "cell_type": "markdown",
   "metadata": {}
  },
  {
   "cell_type": "code",
   "execution_count": 34,
   "metadata": {},
   "outputs": [
    {
     "output_type": "stream",
     "name": "stdout",
     "text": [
      "[98, 83, 77, 70, 62, 49, 48, 44, 35, 14]\n"
     ]
    }
   ],
   "source": [
    "list.sort(reverse=True)\n",
    "print(list)"
   ]
  },
  {
   "source": [
    "\n",
    "<h2>List Reduce</h2>\n",
    "<hr>"
   ],
   "cell_type": "markdown",
   "metadata": {}
  },
  {
   "source": [
    "from functools import reduce\n",
    "list1=map(lambda x:x**2,list)\n",
    "list2=filter(lambda x:x%2==0,list)\n",
    "list3=reduce(lambda y,k:str(y)+'\\n'+str(k),list2)\n",
    "list4=reduce(lambda k,l:f\"{k}\\n{l}\",list1)\n",
    "print(list4)\n",
    "print('===========================================')\n",
    "print(list3)"
   ],
   "cell_type": "code",
   "metadata": {},
   "execution_count": 36,
   "outputs": [
    {
     "output_type": "stream",
     "name": "stdout",
     "text": [
      "9604\n6889\n5929\n4900\n3844\n2401\n2304\n1936\n1225\n196\n===========================================\n98\n70\n62\n48\n44\n14\n"
     ]
    }
   ]
  },
  {
   "source": [
    "<h2>List Accumulate Using reduce</h2><hr>"
   ],
   "cell_type": "markdown",
   "metadata": {}
  },
  {
   "cell_type": "code",
   "execution_count": 10,
   "metadata": {},
   "outputs": [
    {
     "output_type": "stream",
     "name": "stdout",
     "text": [
      "sum=55\nsummary using modele function:55\n"
     ]
    }
   ],
   "source": [
    "from functools import reduce\n",
    "list=[1,2,3,4,5,6,7,8,9,10]\n",
    "summary=reduce(lambda acc,num:acc+num,list,0)\n",
    "print(f'sum={summary}')\n",
    "print('summary using modele function:'+str(sum(list)))\n",
    "list1"
   ]
  },
  {
   "source": [
    "<h3>Summary</h3><hr>\n",
    "<b>List functions</b><ul><li>map</li><li>reduce(functools)</li><li>filter</li></ul>\n",
    "<b>reduce syntax>reduce(lambda vars:expression,iteratable,initiallizer)</b>"
   ],
   "cell_type": "markdown",
   "metadata": {}
  }
 ]
}
