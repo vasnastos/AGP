{
 "metadata": {
  "language_info": {
   "codemirror_mode": {
    "name": "ipython",
    "version": 3
   },
   "file_extension": ".py",
   "mimetype": "text/x-python",
   "name": "python",
   "nbconvert_exporter": "python",
   "pygments_lexer": "ipython3",
   "version": "3.8.5-final"
  },
  "orig_nbformat": 2,
  "kernelspec": {
   "name": "python3",
   "display_name": "Python 3.8.5 64-bit",
   "metadata": {
    "interpreter": {
     "hash": "31f2aee4e71d21fbe5cf8b01ff0e069b9275f58929596ceb00d14d90e3e16cd6"
    }
   }
  }
 },
 "nbformat": 4,
 "nbformat_minor": 2,
 "cells": [
  {
   "source": [
    "<center>\n",
    "<h2>Sorting List using lambdas<img src=\"./RESOURCES/git.png\" width=\"20px\" height=\"20px\"></h2>\n",
    "<hr>\n",
    "<b>List Contains</b>\n",
    "<ul>\n",
    "<b style=\"color:black; font-size:19px;\">*</b>Integers<br>\n",
    "<b style=\"color:black; font-size:19px;\">*</b>Strings<br>\n",
    "<b style=\"color:black; font-size:19px;\">*</b>Objects<br>\n"
   ],
   "cell_type": "markdown",
   "metadata": {}
  },
  {
   "cell_type": "code",
   "execution_count": 32,
   "metadata": {},
   "outputs": [
    {
     "output_type": "stream",
     "name": "stdout",
     "text": [
      "[35, 98, 48, 44, 49, 70, 14, 77, 62, 83]\n[14, 35, 44, 48, 49, 62, 70, 77, 83, 98]\n"
     ]
    }
   ],
   "source": [
    "import random as r\n",
    "list=[]\n",
    "for i in range(10):\n",
    "    list.append(r.randint(0,100))\n",
    "print(list)\n",
    "list.sort()\n",
    "print(list)"
   ]
  },
  {
   "source": [
    "<center>\n",
    "<br>\n",
    "<h3>Print from biggest value to smallest</h3>\n",
    "<hr>"
   ],
   "cell_type": "markdown",
   "metadata": {}
  },
  {
   "cell_type": "code",
   "execution_count": 34,
   "metadata": {},
   "outputs": [
    {
     "output_type": "stream",
     "name": "stdout",
     "text": [
      "[98, 83, 77, 70, 62, 49, 48, 44, 35, 14]\n"
     ]
    }
   ],
   "source": [
    "list.sort(reverse=True)\n",
    "print(list)"
   ]
  },
  {
   "source": [
    "<center>\n",
    "<h2>List Reduce</h2>\n",
    "<hr>"
   ],
   "cell_type": "markdown",
   "metadata": {}
  },
  {
   "source": [
    "from functools import reduce\n",
    "list1=map(lambda x:x**2,list)\n",
    "list2=filter(lambda x:x%2==0,list)\n",
    "list3=reduce(lambda y,k:str(y)+'\\n'+str(k),list2)\n",
    "list4=reduce(lambda k,l:f\"{k}\\n{l}\",list1)\n",
    "print(list4)\n",
    "print('===========================================')\n",
    "print(list3)"
   ],
   "cell_type": "code",
   "metadata": {},
   "execution_count": 36,
   "outputs": [
    {
     "output_type": "stream",
     "name": "stdout",
     "text": [
      "9604\n6889\n5929\n4900\n3844\n2401\n2304\n1936\n1225\n196\n===========================================\n98\n70\n62\n48\n44\n14\n"
     ]
    }
   ]
  },
  {
   "cell_type": "code",
   "execution_count": null,
   "metadata": {},
   "outputs": [],
   "source": []
  }
 ]
}