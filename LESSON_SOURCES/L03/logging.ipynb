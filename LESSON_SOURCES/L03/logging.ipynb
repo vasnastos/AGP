{
 "metadata": {
  "language_info": {
   "codemirror_mode": {
    "name": "ipython",
    "version": 3
   },
   "file_extension": ".py",
   "mimetype": "text/x-python",
   "name": "python",
   "nbconvert_exporter": "python",
   "pygments_lexer": "ipython3",
   "version": "3.8.5-final"
  },
  "orig_nbformat": 2,
  "kernelspec": {
   "name": "python3",
   "display_name": "Python 3.8.5 64-bit",
   "metadata": {
    "interpreter": {
     "hash": "31f2aee4e71d21fbe5cf8b01ff0e069b9275f58929596ceb00d14d90e3e16cd6"
    }
   }
  }
 },
 "nbformat": 4,
 "nbformat_minor": 2,
 "cells": [
  {
   "source": [
    "<center>\n",
    "<h1>Logging Examples<img src=\"RESOURCES/git.png\" width=\"20px\" height=\"20px\"></h1>\n",
    "<b>Contains</b><br>\n",
    "<b style=\"color:black; font-size:19px;\">*</b>Basic Logging<br>\n",
    "<b style=\"color:black; font-size:19px;\">*</b>File Logging<br>\n",
    "<b style=\"color:black; font-size:19px;\">*</b>Object Logging<br>"
   ],
   "cell_type": "markdown",
   "metadata": {}
  },
  {
   "cell_type": "code",
   "execution_count": 8,
   "metadata": {},
   "outputs": [
    {
     "output_type": "stream",
     "name": "stderr",
     "text": [
      "INFO:root:Μύνημα Ενημέρωσης\n",
      "WARNING:root:Μύνημα προειδοποιήσης\n",
      "INFO:root:Μορφοποιημένο μύνημα\n"
     ]
    }
   ],
   "source": [
    "import logging as log\n",
    "log.basicConfig()\n",
    "log.getLogger().setLevel(log.INFO)\n",
    "log.info('Μύνημα Ενημέρωσης')\n",
    "log.debug('Μύνημα απασφαλμάτωσης')\n",
    "log.warning('Μύνημα προειδοποιήσης')\n",
    "log.info('Μορφοποιημένο μύνημα')"
   ]
  },
  {
   "cell_type": "code",
   "execution_count": 12,
   "metadata": {},
   "outputs": [
    {
     "output_type": "stream",
     "name": "stderr",
     "text": [
      "INFO:root:Μύνημα Ενημέρωσης\n",
      "DEBUG:root:Μύνημα απασφαλμάτωσης\n",
      "WARNING:root:Μύνημα προειδοποιήσης\n",
      "INFO:root:Μορφοποιημένο μύνημα\n"
     ]
    }
   ],
   "source": [
    "import logging as log\n",
    "log.basicConfig(filename=\"test.log\",filemode=\"w\",level=log.DEBUG)\n",
    "log.info('Μύνημα Ενημέρωσης')\n",
    "log.debug('Μύνημα απασφαλμάτωσης')\n",
    "log.warning('Μύνημα προειδοποιήσης')\n",
    "log.info('Μορφοποιημένο μύνημα')"
   ]
  },
  {
   "source": [
    "RPS=['R','P','S']\n",
    "logger=log.getLogger('RPS_logger')\n",
    "logger.setLevel(log.DEBUG)\n",
    "fh=log.FileHandler('test.log')\n",
    "sh=log.StreamHandler()\n",
    "form=log.Formatter(' *%(asctime)s\\n *%(levelname)s\\n *%(message)s\\n')\n",
    "fh.setFormatter(form)\n",
    "sh.setFormatter(form)\n",
    "logger.addHandler(fh)\n",
    "logger.addHandler(sh)\n",
    "logger.info('Μύνημα Ενημέρωσης')\n",
    "logger.debug('Μύνημα απασφαλμάτωσης')\n",
    "logger.warning('Μύνημα προειδοποιήσης')\n",
    "logger.info('Μορφοποιημένο μύνημα')\n",
    "logger.critical('Critical Μύνημα')\n",
    "for x in RPS:\n",
    "    logger.info(x)\n",
    "logger.info(RPS)"
   ],
   "cell_type": "code",
   "metadata": {},
   "execution_count": 16,
   "outputs": [
    {
     "output_type": "stream",
     "name": "stderr",
     "text": [
      " *2021-03-18 10:43:48,780\n",
      " *INFO\n",
      " *Μύνημα Ενημέρωσης\n",
      "\n",
      " *2021-03-18 10:43:48,780\n",
      " *INFO\n",
      " *Μύνημα Ενημέρωσης\n",
      "\n",
      "INFO:RPS_logger:Μύνημα Ενημέρωσης\n",
      " *2021-03-18 10:43:48,785\n",
      " *DEBUG\n",
      " *Μύνημα απασφαλμάτωσης\n",
      "\n",
      " *2021-03-18 10:43:48,785\n",
      " *DEBUG\n",
      " *Μύνημα απασφαλμάτωσης\n",
      "\n",
      "DEBUG:RPS_logger:Μύνημα απασφαλμάτωσης\n",
      " *2021-03-18 10:43:48,789\n",
      " *WARNING\n",
      " *Μύνημα προειδοποιήσης\n",
      "\n",
      " *2021-03-18 10:43:48,789\n",
      " *WARNING\n",
      " *Μύνημα προειδοποιήσης\n",
      "\n",
      "WARNING:RPS_logger:Μύνημα προειδοποιήσης\n",
      " *2021-03-18 10:43:48,792\n",
      " *INFO\n",
      " *Μορφοποιημένο μύνημα\n",
      "\n",
      " *2021-03-18 10:43:48,792\n",
      " *INFO\n",
      " *Μορφοποιημένο μύνημα\n",
      "\n",
      "INFO:RPS_logger:Μορφοποιημένο μύνημα\n",
      " *2021-03-18 10:43:48,796\n",
      " *CRITICAL\n",
      " *Critical Μύνημα\n",
      "\n",
      " *2021-03-18 10:43:48,796\n",
      " *CRITICAL\n",
      " *Critical Μύνημα\n",
      "\n",
      "CRITICAL:RPS_logger:Critical Μύνημα\n",
      " *2021-03-18 10:43:48,800\n",
      " *INFO\n",
      " *R\n",
      "\n",
      " *2021-03-18 10:43:48,800\n",
      " *INFO\n",
      " *R\n",
      "\n",
      "INFO:RPS_logger:R\n",
      " *2021-03-18 10:43:48,804\n",
      " *INFO\n",
      " *P\n",
      "\n",
      " *2021-03-18 10:43:48,804\n",
      " *INFO\n",
      " *P\n",
      "\n",
      "INFO:RPS_logger:P\n",
      " *2021-03-18 10:43:48,813\n",
      " *INFO\n",
      " *S\n",
      "\n",
      " *2021-03-18 10:43:48,813\n",
      " *INFO\n",
      " *S\n",
      "\n",
      "INFO:RPS_logger:S\n",
      " *2021-03-18 10:43:48,816\n",
      " *INFO\n",
      " *['R', 'P', 'S']\n",
      "\n",
      " *2021-03-18 10:43:48,816\n",
      " *INFO\n",
      " *['R', 'P', 'S']\n",
      "\n",
      "INFO:RPS_logger:['R', 'P', 'S']\n"
     ]
    }
   ]
  },
  {
   "cell_type": "code",
   "execution_count": null,
   "metadata": {},
   "outputs": [],
   "source": []
  }
 ]
}