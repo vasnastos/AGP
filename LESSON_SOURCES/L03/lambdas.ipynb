{
 "metadata": {
  "language_info": {
   "codemirror_mode": {
    "name": "ipython",
    "version": 3
   },
   "file_extension": ".py",
   "mimetype": "text/x-python",
   "name": "python",
   "nbconvert_exporter": "python",
   "pygments_lexer": "ipython3",
   "version": "3.8.5-final"
  },
  "orig_nbformat": 2,
  "kernelspec": {
   "name": "python3",
   "display_name": "Python 3",
   "language": "python"
  }
 },
 "nbformat": 4,
 "nbformat_minor": 2,
 "cells": [
  {
   "source": [
    "\n",
    "<h1>Lambdas:No name functions<h1>\n",
    "<b>Lambda syntax argument-'s:expression</b>\n",
    "<hr>"
   ],
   "cell_type": "markdown",
   "metadata": {}
  },
  {
   "cell_type": "code",
   "execution_count": 9,
   "metadata": {},
   "outputs": [
    {
     "output_type": "stream",
     "name": "stdout",
     "text": [
      "9>5\n7<=8\n3<=4\n"
     ]
    }
   ],
   "source": [
    "k=lambda x,y: str(x)+'>'+str(y) if int(x)>int(y) else str(x)+'<='+str(y)\n",
    "print(k(9,5))\n",
    "print(k(7,8))\n",
    "print(k(3,4))"
   ]
  },
  {
   "cell_type": "code",
   "execution_count": 12,
   "metadata": {},
   "outputs": [
    {
     "output_type": "stream",
     "name": "stdout",
     "text": [
      "number^2:100\n"
     ]
    }
   ],
   "source": [
    "def func(a):\n",
    "    return 'number^2:'+str(a**2)\n",
    "y=lambda x,func:func(x)\n",
    "print(y(10,func))"
   ]
  },
  {
   "source": [
    "<b style=\"font-size:17px; text-decoration:underline;\">The items() method returns a view object. The view object contains the key-value pairs of the dictionary, as tuples in a list.</b>"
   ],
   "cell_type": "markdown",
   "metadata": {}
  },
  {
   "cell_type": "code",
   "execution_count": 20,
   "metadata": {},
   "outputs": [
    {
     "output_type": "stream",
     "name": "stdout",
     "text": [
      "{'B': 66, 'D': 68, 'F': 70, 'H': 72, 'J': 74, 'L': 76, 'N': 78, 'P': 80, 'R': 82, 'T': 84, 'V': 86, 'X': 88, 'Z': 90}\nSummary=2015\nSummary of Ascii Values=2015\n"
     ]
    },
    {
     "output_type": "error",
     "ename": "ValueError",
     "evalue": "dictionary update sequence element #0 has length 1; 2 is required",
     "traceback": [
      "\u001b[0;31m---------------------------------------------------------------------------\u001b[0m",
      "\u001b[0;31mValueError\u001b[0m                                Traceback (most recent call last)",
      "\u001b[0;32m<ipython-input-20-e03a5f18998a>\u001b[0m in \u001b[0;36m<module>\u001b[0;34m\u001b[0m\n\u001b[1;32m     12\u001b[0m \u001b[0mprint\u001b[0m\u001b[0;34m(\u001b[0m\u001b[0;34m'Summary='\u001b[0m\u001b[0;34m+\u001b[0m\u001b[0mstr\u001b[0m\u001b[0;34m(\u001b[0m\u001b[0mdict2\u001b[0m\u001b[0;34m)\u001b[0m\u001b[0;34m)\u001b[0m\u001b[0;34m\u001b[0m\u001b[0;34m\u001b[0m\u001b[0m\n\u001b[1;32m     13\u001b[0m \u001b[0mprint\u001b[0m\u001b[0;34m(\u001b[0m\u001b[0;34m'Summary of Ascii Values='\u001b[0m\u001b[0;34m+\u001b[0m\u001b[0mstr\u001b[0m\u001b[0;34m(\u001b[0m\u001b[0mdict3\u001b[0m\u001b[0;34m)\u001b[0m\u001b[0;34m)\u001b[0m\u001b[0;34m\u001b[0m\u001b[0;34m\u001b[0m\u001b[0m\n\u001b[0;32m---> 14\u001b[0;31m \u001b[0mdict4\u001b[0m\u001b[0;34m=\u001b[0m\u001b[0mdict\u001b[0m\u001b[0;34m(\u001b[0m\u001b[0mreduce\u001b[0m\u001b[0;34m(\u001b[0m\u001b[0;32mlambda\u001b[0m \u001b[0melem\u001b[0m\u001b[0;34m,\u001b[0m\u001b[0melem1\u001b[0m\u001b[0;34m:\u001b[0m\u001b[0;34mf'{elem}-{elem1}\\n'\u001b[0m\u001b[0;34m,\u001b[0m\u001b[0md\u001b[0m\u001b[0;34m)\u001b[0m\u001b[0;34m)\u001b[0m\u001b[0;34m\u001b[0m\u001b[0;34m\u001b[0m\u001b[0m\n\u001b[0m\u001b[1;32m     15\u001b[0m \u001b[0mprint\u001b[0m\u001b[0;34m(\u001b[0m\u001b[0mdict4\u001b[0m\u001b[0;34m)\u001b[0m\u001b[0;34m\u001b[0m\u001b[0;34m\u001b[0m\u001b[0m\n",
      "\u001b[0;31mValueError\u001b[0m: dictionary update sequence element #0 has length 1; 2 is required"
     ]
    }
   ],
   "source": [
    "from functools import reduce\n",
    "import math as m\n",
    "d={}\n",
    "character='A'\n",
    "for k in range(26):\n",
    "  p=chr(ord(character)+int(k))\n",
    "  d.update({p:ord(p)})\n",
    "dict1=dict(filter(lambda elem: elem[1]%2==0,d.items()))\n",
    "print(dict1)\n",
    "dict2=reduce(lambda acc,num:acc+num,d.values(),0)\n",
    "dict3=reduce(lambda acc,num:acc+ord(num),d.keys(),0)\n",
    "print('Summary='+str(dict2))\n",
    "print('Summary of Ascii Values='+str(dict3))"
   ]
  },
  {
   "cell_type": "code",
   "execution_count": 1,
   "metadata": {},
   "outputs": [
    {
     "output_type": "stream",
     "name": "stdout",
     "text": [
      "Summary=46\n"
     ]
    }
   ],
   "source": [
    "from functools import reduce\n",
    "k=reduce(lambda x,sum:sum+x,[1,5,6,7,8,19],0)\n",
    "print(f'Summary={k}')"
   ]
  },
  {
   "cell_type": "code",
   "execution_count": null,
   "metadata": {},
   "outputs": [],
   "source": []
  }
 ]
}
