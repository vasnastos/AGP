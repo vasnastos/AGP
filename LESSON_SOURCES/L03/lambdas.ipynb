{
 "metadata": {
  "language_info": {
   "codemirror_mode": {
    "name": "ipython",
    "version": 3
   },
   "file_extension": ".py",
   "mimetype": "text/x-python",
   "name": "python",
   "nbconvert_exporter": "python",
   "pygments_lexer": "ipython3",
   "version": "3.8.5-final"
  },
  "orig_nbformat": 2,
  "kernelspec": {
   "name": "python3",
   "display_name": "Python 3",
   "language": "python"
  }
 },
 "nbformat": 4,
 "nbformat_minor": 2,
 "cells": [
  {
   "source": [
    "<center>\n",
    "<h1>Lambdas:No name functions<h1>\n",
    "<b>lambda argument-'s:expression</b>\n",
    "<hr>"
   ],
   "cell_type": "code",
   "metadata": {},
   "execution_count": null,
   "outputs": []
  },
  {
   "cell_type": "code",
   "execution_count": 9,
   "metadata": {},
   "outputs": [
    {
     "output_type": "stream",
     "name": "stdout",
     "text": [
      "9>5\n7<=8\n3<=4\n"
     ]
    }
   ],
   "source": [
    "k=lambda x,y: str(x)+'>'+str(y) if int(x)>int(y) else str(x)+'<='+str(y)\n",
    "print(k(9,5))\n",
    "print(k(7,8))\n",
    "print(k(3,4))"
   ]
  },
  {
   "cell_type": "code",
   "execution_count": 12,
   "metadata": {},
   "outputs": [
    {
     "output_type": "stream",
     "name": "stdout",
     "text": [
      "number^2:100\n"
     ]
    }
   ],
   "source": [
    "def func(a):\n",
    "    return 'number^2:'+str(a**2)\n",
    "y=lambda x,func:func(x)\n",
    "print(y(10,func))"
   ]
  },
  {
   "cell_type": "code",
   "execution_count": 1,
   "metadata": {},
   "outputs": [
    {
     "output_type": "stream",
     "name": "stdout",
     "text": [
      "Summary=46\n"
     ]
    }
   ],
   "source": [
    "from functools import reduce\n",
    "k=reduce(lambda x,sum:sum+x,[1,5,6,7,8,19],0)\n",
    "print(f'Summary={k}')"
   ]
  }
 ]
}