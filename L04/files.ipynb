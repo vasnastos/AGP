{
 "metadata": {
  "language_info": {
   "codemirror_mode": {
    "name": "ipython",
    "version": 3
   },
   "file_extension": ".py",
   "mimetype": "text/x-python",
   "name": "python",
   "nbconvert_exporter": "python",
   "pygments_lexer": "ipython3",
   "version": "3.9.0-final"
  },
  "orig_nbformat": 2,
  "kernelspec": {
   "name": "python3",
   "display_name": "Python 3.9.0 64-bit",
   "metadata": {
    "interpreter": {
     "hash": "5e8846619b23044cef01bd788b7a077f39e3c1418286b5cba732e956c389b7b6"
    }
   }
  }
 },
 "nbformat": 4,
 "nbformat_minor": 2,
 "cells": [
  {
   "source": [
    "<h2>Different type of files handler</h2>\n",
    "<b style=\"color:red;\">File Type</b><br>\n",
    "<hr>\n",
    "<ul>\n",
    "<li>Csv files</li>\n",
    "<li>Pdf files</li>\n",
    "<li>Excell files</li>\n",
    "<li>JSon files</li>\n",
    "<li>Xml files</li>\n",
    "</ul>"
   ],
   "cell_type": "markdown",
   "metadata": {}
  },
  {
   "cell_type": "code",
   "execution_count": 10,
   "metadata": {},
   "outputs": [
    {
     "output_type": "stream",
     "name": "stdout",
     "text": [
      "['Σύνοψη σύσκεψης']\n['Συνολικό πλήθος συμμετεχόντων\\t4']\n['Τίτλος σύσκεψης\\tGeneral']\n['Ώρα έναρξης σύσκεψης\\t23/3/2021', ' 2:23:31 μ.μ.']\n['Ώρα λήξης σύσκεψης\\t23/3/2021', ' 6:23:34 μ.μ.']\n[]\n['Ονοματεπώνυμο\\tΏρα συμμετοχής\\tΏρα αποχώρησης\\tΔιάρκεια\\tEmail\\tΡόλος']\n['Person_1\\t23/3/2021', ' 2:23:35 μ.μ.\\t23/3/2021', ' 3:26:24 μ.μ.\\t1 ώρ. 2 λ.\\tint01234@uoi.gr\\tΣυμμετέχων']\n['Person_1\\t23/3/2021', ' 3:36:52 μ.μ.\\t23/3/2021', ' 4:08:58 μ.μ.\\t32 λ. 6 δευτ.\\tint01234@uoi.gr\\tΣυμμετέχων']\n['Person_1\\t23/3/2021', ' 4:29:44 μ.μ.\\t23/3/2021', ' 4:59:42 μ.μ.\\t29 λ. 57 δευτ.\\tint01234@uoi.gr\\tΣυμμετέχων']\n['Person_2\\t23/3/2021', ' 2:23:35 μ.μ.\\t23/3/2021', ' 5:06:21 μ.μ.\\t2 ώρ. 42 λ.\\tint02345@uoi.gr\\tΣυμμετέχων']\n['Person_3\\t23/3/2021', ' 2:23:37 μ.μ.\\t23/3/2021', ' 3:26:28 μ.μ.\\t1 ώρ. 2 λ.\\tint03456@uoi.gr\\tΣυμμετέχων']\n['Person_3\\t23/3/2021', ' 3:34:48 μ.μ.\\t23/3/2021', ' 5:10:30 μ.μ.\\t1 ώρ. 35 λ.\\tint03456@uoi.gr\\tΣυμμετέχων']\n['Person_4\\t23/3/2021', ' 2:23:38 μ.μ.\\t23/3/2021', ' 5:14:41 μ.μ.\\t2 ώρ. 51 λ.\\tthl1867890@uoi.gr\\tΣυμμετέχων']\n['Person_4\\t23/3/2021', ' 5:22:37 μ.μ.\\t23/3/2021', ' 5:22:47 μ.μ.\\t10 δευτ.\\tthl1867890@uoi.gr\\tΣυμμετέχων']\n['Person_4\\t23/3/2021', ' 5:22:37 μ.μ.\\t23/3/2021', ' 5:22:47 μ.μ.\\t4ωρ.\\tthl1867890@uoi.gr\\tΣυμμετέχων']\nwrite to SOURCES/source.csv\n"
     ]
    }
   ],
   "source": [
    "import csv\n",
    "with open('SOURCES/source.csv',encoding='utf-8') as f:\n",
    "    opener=csv.reader(f)\n",
    "    #Seperate values with comma\n",
    "    for x in opener:\n",
    "        print(x)\n",
    "list=['This','is','a','comma','seperated','value','list']\n",
    "with open('SOURCES/source.csv','a') as f:\n",
    "     try:   \n",
    "        csvwriter=csv.writer(f)\n",
    "        csvwriter.writerow(list)\n",
    "     finally:\n",
    "         print('write to SOURCES/source.csv')   "
   ]
  },
  {
   "cell_type": "code",
   "execution_count": 11,
   "metadata": {},
   "outputs": [
    {
     "output_type": "stream",
     "name": "stdout",
     "text": [
      "info:::\n\nAuthor:None\n\nPages:5\n\nTitle:None\n\nSubject:None\n\n\n"
     ]
    }
   ],
   "source": [
    "from PyPDF2 import pdf\n",
    "pdfreader=pdf.PdfFileReader('SOURCES/algo_complexity.pdf')\n",
    "doc=pdfreader.getDocumentInfo()\n",
    "print('info:::')\n",
    "print(f\"\"\"\n",
    "Author:{doc.author}\\n\n",
    "Pages:{pdfreader.getNumPages()}\\n\n",
    "Title:{doc.title}\\n\n",
    "Subject:{doc.subject}\\n\n",
    "\"\"\")"
   ]
  },
  {
   "cell_type": "code",
   "execution_count": 26,
   "metadata": {},
   "outputs": [
    {
     "output_type": "execute_result",
     "data": {
      "text/plain": [
       "True"
      ]
     },
     "metadata": {},
     "execution_count": 26
    }
   ],
   "source": [
    "#Pdf Merger\n",
    "import os\n",
    "import re\n",
    "import webbrowser as wb\n",
    "files=[]\n",
    "from PyPDF2.pdf import *\n",
    "pdfw=PdfFileWriter()\n",
    "fl=os.listdir('./SOURCES')\n",
    "for x in fl:\n",
    "  if re.match('.*\\.pdf',x):\n",
    "     files.append(x)\n",
    "for k in files:\n",
    "    reader=PdfFileReader('SOURCES/'+str(k))\n",
    "    for x in range(reader.getNumPages()):\n",
    "        pdfw.addPage(reader.getPage(int(x)))\n",
    "y=input('Give filename you want to save the Merged Pdf:')\n",
    "with open(y,'wb') as writer:\n",
    "    pdfw.write(writer)\n",
    "wb.open_new_tab(y)"
   ]
  },
  {
   "cell_type": "code",
   "execution_count": 79,
   "metadata": {},
   "outputs": [
    {
     "output_type": "stream",
     "name": "stdout",
     "text": [
      "WorkSheet Created:parousies.xlsx\n"
     ]
    }
   ],
   "source": [
    "import xlsxwriter as xl\n",
    "parousies={\n",
    "    'PERSON_1':4,\n",
    "    'PERSON_2':9,\n",
    "    'PERSON_3':7,\n",
    "    'PERSON_4':10,\n",
    "    'PERSON_5':11,\n",
    "    'PERSON_6':5,\n",
    "    'PERSON_7':12,\n",
    "    'PERSON_8':4,\n",
    "    'PERSON_9':1,\n",
    "    'PERSON_10':0,\n",
    "    'PERSON_11':9,\n",
    "    'PERSON_12':6, \n",
    "}\n",
    "wbook=xl.Workbook('parousies.xlsx')\n",
    "worksheet=wbook.add_worksheet()\n",
    "row=0\n",
    "for x in parousies:\n",
    "    worksheet.write(row,0,x)\n",
    "    worksheet.write(row,1,parousies[x])\n",
    "    row+=1\n",
    "worksheet.write(row,0,f'Total:{len(parousies)}')\n",
    "worksheet.write(row,1,f'=SUM(B1:B{row})')\n",
    "\n",
    "wbook.close()\n",
    "print('WorkSheet Created:parousies.xlsx')"
   ]
  },
  {
   "cell_type": "code",
   "execution_count": 117,
   "metadata": {},
   "outputs": [
    {
     "output_type": "stream",
     "name": "stdout",
     "text": [
      "\n        \n-------------------------------\nTrue\nIndiana Jones: The raiders of the lost Ark\nformat:DVD\nyear:1981\nrating:PG\ndescription:\n                'Archaeologist and adventurer Indiana Jones \n                is hired by the U.S. government to find the Ark of the \n                Covenant before the Nazis.'\n                \n\n================================\nTrue\nTHE KARATE KID\nformat:DVD,Online\nyear:1984\nrating:PG\ndescription:None provided.\n\n================================\nFalse\nBack 2 the Future\nformat:Blu-ray\nyear:1985\nrating:PG\ndescription:Marty McFly\n\n================================\nFalse\nX-Men\nformat:dvd, digital\nyear:2000\nrating:PG-13\ndescription:Two mutants come to a private academy for their kind whose resident superhero team must \n               oppose a terrorist organization with similar powers.\n\n================================\nTrue\nBatman Returns\nformat:VHS\nyear:1992\nrating:PG13\ndescription:NA.\n\n================================\nFalse\nReservoir Dogs\nformat:Online\nyear:1992\nrating:R\ndescription:WhAtEvER I Want!!!?!\n\n================================\n\n        \n-------------------------------\nFalse\nALIEN\nformat:DVD\nyear:1979\nrating:R\ndescription:\"\"\"\"\"\"\"\"\"\n\n================================\nTrue\nFerris Bueller's Day Off\nformat:DVD\nyear:1986\nrating:PG13\ndescription:Funny movie about a funny guy\n\n================================\nFALSE\nAmerican Psycho\nformat:blue-ray\nyear:2000\nrating:Unrated\ndescription:psychopathic Bateman\n\n================================\n"
     ]
    }
   ],
   "source": [
    "import xml.etree.ElementTree as ET\n",
    "\n",
    "class movie:\n",
    "    def __init__(self,format,year,rate,desc):\n",
    "        self.format=format\n",
    "        self.year=year\n",
    "        self.rating=rate\n",
    "        self.description=desc\n",
    "    \n",
    "\n",
    "\n",
    "y=open('SOURCES/movies.xml')\n",
    "tree=ET.parse(y)\n",
    "y.close()\n",
    "root=tree.getroot()\n",
    "\n",
    "#Tags and Attributes\n",
    "for child in root.iter('genre'):\n",
    "    print(child.text)\n",
    "    print('-------------------------------')\n",
    "    for subchild in child.iter('decade'):\n",
    "        attributes=[]\n",
    "        for ch in subchild:\n",
    "            attributes=ch.attrib\n",
    "            print(attributes['favorite'])\n",
    "            print(attributes['title'])\n",
    "            infos=[{l.tag:l.text} for l in ch]\n",
    "            for k in infos:\n",
    "                for m in k:\n",
    "                    print(f'{m}:{k[m]}')\n",
    "            print('\\n================================')\n",
    "\n",
    "\n",
    "\n",
    "    "
   ]
  },
  {
   "cell_type": "code",
   "execution_count": null,
   "metadata": {},
   "outputs": [],
   "source": []
  }
 ]
}