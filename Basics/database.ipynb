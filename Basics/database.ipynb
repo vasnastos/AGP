{
 "metadata": {
  "language_info": {
   "codemirror_mode": {
    "name": "ipython",
    "version": 3
   },
   "file_extension": ".py",
   "mimetype": "text/x-python",
   "name": "python",
   "nbconvert_exporter": "python",
   "pygments_lexer": "ipython3",
   "version": "3.9.0-final"
  },
  "orig_nbformat": 2,
  "kernelspec": {
   "name": "python3",
   "display_name": "Python 3.9.0 64-bit",
   "metadata": {
    "interpreter": {
     "hash": "5e8846619b23044cef01bd788b7a077f39e3c1418286b5cba732e956c389b7b6"
    }
   }
  }
 },
 "nbformat": 4,
 "nbformat_minor": 2,
 "cells": [
  {
   "cell_type": "code",
   "execution_count": 66,
   "metadata": {},
   "outputs": [
    {
     "output_type": "stream",
     "name": "stdout",
     "text": [
      "Database created:test.db\n"
     ]
    }
   ],
   "source": [
    "import sqlite3 as sq\n",
    "\n",
    "conn=sq.connect('ORDERS.db')\n",
    "db=conn.cursor()\n",
    "db.execute('CREATE TABLE IF NOT EXISTS ORDING(orderid TEXT, seqno REAL, itemid TEXT, quantity INTEGER, value REAL )')\n",
    "conn.commit()\n",
    "print('Database created:test.db')"
   ]
  },
  {
   "cell_type": "code",
   "execution_count": 72,
   "metadata": {},
   "outputs": [
    {
     "output_type": "stream",
     "name": "stdout",
     "text": [
      "10 items insert into database\n"
     ]
    }
   ],
   "source": [
    "import random as r\n",
    "sql='insert into ORDING(orderid,seqno,itemid,quantity,value) values(?,?,?,?,?)'\n",
    "for x in range(10):\n",
    "    itid=chr(r.randint(96,96+26))+chr(96+96+26)+str(r.randint(200000,800000))\n",
    "    db.execute(sql,('order_'+str(int(x)+1),str(r.randint(1000,10000)),str(itid),r.randint(1,39),r.randrange(0,10000)))\n",
    "print('10 items insert into database')"
   ]
  },
  {
   "cell_type": "code",
   "execution_count": 109,
   "metadata": {},
   "outputs": [
    {
     "output_type": "error",
     "ename": "ProgrammingError",
     "evalue": "Cannot operate on a closed database.",
     "traceback": [
      "\u001b[1;31m---------------------------------------------------------------------------\u001b[0m",
      "\u001b[1;31mProgrammingError\u001b[0m                          Traceback (most recent call last)",
      "\u001b[1;32m<ipython-input-109-2a1988a98281>\u001b[0m in \u001b[0;36m<module>\u001b[1;34m\u001b[0m\n\u001b[0;32m      1\u001b[0m \u001b[0msql\u001b[0m\u001b[1;33m=\u001b[0m\u001b[1;34m'select * from ORDING'\u001b[0m\u001b[1;33m\u001b[0m\u001b[1;33m\u001b[0m\u001b[0m\n\u001b[0;32m      2\u001b[0m \u001b[0mdata\u001b[0m\u001b[1;33m=\u001b[0m\u001b[1;33m[\u001b[0m\u001b[1;33m]\u001b[0m\u001b[1;33m\u001b[0m\u001b[1;33m\u001b[0m\u001b[0m\n\u001b[1;32m----> 3\u001b[1;33m \u001b[1;32mfor\u001b[0m \u001b[0mx\u001b[0m \u001b[1;32min\u001b[0m \u001b[0mdb\u001b[0m\u001b[1;33m.\u001b[0m\u001b[0mexecute\u001b[0m\u001b[1;33m(\u001b[0m\u001b[0msql\u001b[0m\u001b[1;33m)\u001b[0m\u001b[1;33m:\u001b[0m\u001b[1;33m\u001b[0m\u001b[1;33m\u001b[0m\u001b[0m\n\u001b[0m\u001b[0;32m      4\u001b[0m     \u001b[0mprint\u001b[0m\u001b[1;33m(\u001b[0m\u001b[0mx\u001b[0m\u001b[1;33m)\u001b[0m\u001b[1;33m\u001b[0m\u001b[1;33m\u001b[0m\u001b[0m\n",
      "\u001b[1;31mProgrammingError\u001b[0m: Cannot operate on a closed database."
     ]
    }
   ],
   "source": [
    "sql='select * from ORDING'\n",
    "data=[]\n",
    "for x in db.execute(sql):\n",
    "    print(x)"
   ]
  },
  {
   "cell_type": "code",
   "execution_count": 102,
   "metadata": {},
   "outputs": [
    {
     "output_type": "stream",
     "name": "stdout",
     "text": [
      "Update executed!!!!\n"
     ]
    }
   ],
   "source": [
    "sql='update ORDING set value=? where orderid=?'\n",
    "item='order_'+str(r.randint(1,10))\n",
    "db.execute(sql,(r.randint(10000,20000),item))\n",
    "conn.commit()\n",
    "print('Update executed!!!!')"
   ]
  },
  {
   "cell_type": "code",
   "execution_count": 105,
   "metadata": {},
   "outputs": [
    {
     "output_type": "stream",
     "name": "stdout",
     "text": [
      "delete made\n"
     ]
    }
   ],
   "source": [
    "sql='delete from ORDING where quantity<=?'\n",
    "db.execute(sql,(str(4)))\n",
    "conn.commit()\n",
    "print('delete made')"
   ]
  },
  {
   "cell_type": "code",
   "execution_count": 107,
   "metadata": {},
   "outputs": [
    {
     "output_type": "stream",
     "name": "stdout",
     "text": [
      "[('order_3', 6196.0, 'fÚ349841', 5, 7750.0), ('order_2', 7032.0, 'dÚ311641', 6, 2467.0), ('order_8', 1957.0, 'rÚ650120', 6, 4433.0), ('order_6', 6537.0, 'kÚ566689', 17, 7906.0), ('order_7', 4601.0, '`Ú675633', 20, 6257.0), ('order_4', 5713.0, 'uÚ407480', 23, 2451.0), ('order_5', 9747.0, 'vÚ531492', 25, 7362.0), ('order_9', 7217.0, 'lÚ740833', 29, 18254.0), ('order_1', 4803.0, 'pÚ687857', 36, 465.0)]\n"
     ]
    }
   ],
   "source": [
    "#Order Data By Quantity\n",
    "conn=sq.connect('ORDERS.db')\n",
    "db=conn.cursor()\n",
    "sql='select * from ORDING order by quantity ASC'\n",
    "db.execute(sql)\n",
    "data=[x for x in db.execute(sql)]\n",
    "print(data)\n",
    "conn.close()"
   ]
  },
  {
   "cell_type": "code",
   "execution_count": 108,
   "metadata": {},
   "outputs": [
    {
     "output_type": "stream",
     "name": "stdout",
     "text": [
      "('order_3', 6196.0, 'fÚ349841', 5, 7750.0)\n('order_2', 7032.0, 'dÚ311641', 6, 2467.0)\n('order_6', 6537.0, 'kÚ566689', 17, 7906.0)\n('order_7', 4601.0, '`Ú675633', 20, 6257.0)\n('order_4', 5713.0, 'uÚ407480', 23, 2451.0)\n('order_5', 9747.0, 'vÚ531492', 25, 7362.0)\n('order_9', 7217.0, 'lÚ740833', 29, 18254.0)\n('order_1', 4803.0, 'pÚ687857', 36, 465.0)\n"
     ]
    }
   ],
   "source": [
    "#Group By\n",
    "conn=sq.connect('ORDERS.db')\n",
    "db=conn.cursor()\n",
    "sql='select * from ORDING group by quantity'\n",
    "for x in db.execute(sql):\n",
    "    print(x)\n",
    "conn.close()"
   ]
  },
  {
   "cell_type": "code",
   "execution_count": null,
   "metadata": {},
   "outputs": [],
   "source": []
  }
 ]
}